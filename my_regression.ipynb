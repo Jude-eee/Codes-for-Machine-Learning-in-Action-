{
 "cells": [
  {
   "cell_type": "markdown",
   "metadata": {},
   "source": [
    "# Linear Regression\n",
    "## Loading data"
   ]
  },
  {
   "cell_type": "code",
   "execution_count": null,
   "metadata": {},
   "outputs": [],
   "source": [
    "import numpy as np\n",
    "import pandas as pd\n",
    "import matplotlib.pyplot as plt"
   ]
  },
  {
   "cell_type": "code",
   "execution_count": 2,
   "metadata": {},
   "outputs": [],
   "source": [
    "path = r'C:\\Users\\67585\\Desktop\\cs229 notes\\Machine-Learning-master\\Regression\\ex0.txt'"
   ]
  },
  {
   "cell_type": "code",
   "execution_count": 87,
   "metadata": {
    "scrolled": false
   },
   "outputs": [],
   "source": [
    "def ReadFileAndFindXY(filename):\n",
    "    \n",
    "    def StrToFloat(List):\n",
    "        try:\n",
    "            newList = []\n",
    "            for i in range(len(List)):\n",
    "                item = float(List[i])\n",
    "                newList.append(item)\n",
    "        except: ValueError\n",
    "        return newList\n",
    "    \n",
    "    newfile = []\n",
    "    for line in open(filename,'r').readlines():\n",
    "        line = line.replace('\\t',',').replace('\\n','').replace(',',' ')\n",
    "        newfile.append(line)\n",
    "    # define x and y vertor\n",
    "    x = []\n",
    "    y = []\n",
    "    for i in range(len(newfile)):\n",
    "        x.append(StrToFloat(pd.DataFrame(newfile)[0].str.split(' ')[i][:-1]))\n",
    "        y.append(StrToFloat(pd.DataFrame(newfile)[0].str.split(' ')[i][-1]))\n",
    "    \n",
    "    \n",
    "    \n",
    "    x = np.matrix(x)\n",
    "    \n",
    "    y = np.matrix(y)\n",
    "\n",
    "    return x,y\n",
    "\n",
    "\n",
    "\n",
    "\n",
    "\n"
   ]
  },
  {
   "cell_type": "markdown",
   "metadata": {},
   "source": [
    "## Finding Parameters"
   ]
  },
  {
   "cell_type": "code",
   "execution_count": 226,
   "metadata": {},
   "outputs": [
    {
     "data": {
      "text/plain": [
       "matrix([[2.67699153],\n",
       "        [1.388454  ]])"
      ]
     },
     "execution_count": 226,
     "metadata": {},
     "output_type": "execute_result"
    }
   ],
   "source": [
    "# method 1: using formula just for linear regression : beta = (XTX)^(-1) * XT * y\n",
    "def CalculateParamaters(x,y):\n",
    "    '''\n",
    "    Returns: paramater matrix (assume x.T * x is inverse matrix)\n",
    "    Paramaters:x,y\n",
    "    '''\n",
    "    beta = (x.T * x).I * x.T * y\n",
    "    return beta\n",
    "\n",
    "x = ReadFileAndFindXY(path)[0]\n",
    "y = ReadFileAndFindXY(path)[1]\n",
    "paramaters = CalculateParamaters(x,y)\n",
    "\n",
    "paramaters\n",
    "\n"
   ]
  },
  {
   "cell_type": "code",
   "execution_count": 256,
   "metadata": {},
   "outputs": [
    {
     "data": {
      "text/plain": [
       "(matrix([[2.66847587],\n",
       "         [1.45129348]]), 86)"
      ]
     },
     "execution_count": 256,
     "metadata": {},
     "output_type": "execute_result"
    }
   ],
   "source": [
    "# method 2: gradient descent\n",
    "def GradientDescent(beta_initial,alpha):\n",
    "    '''\n",
    "    Returns: beta (linear regression parameters type: matrix)\n",
    "    Paramaters: beta_initial(type: matrix, (1,k), k is the length of x), alpha: learning rate(type:float)\n",
    "    \n",
    "    '''\n",
    "    iteration_num = 0\n",
    "    beta = beta_initial.astype('float64')\n",
    "    i = 0\n",
    "    while abs(x[i] * beta.T - y[i]) >= 0.001 and i < len(x):\n",
    "\n",
    "        process = (x[i] * beta.T - y[i]) * x[i]\n",
    "        process = np.matrix(process,dtype=np.float) * alpha\n",
    "        beta -= process\n",
    "        i += 1\n",
    "\n",
    "    return beta.T,i\n",
    "\n",
    "beta_initial = np.matrix([0,0])\n",
    "\n",
    "GradientDescent(beta_initial,0.5)"
   ]
  },
  {
   "cell_type": "code",
   "execution_count": null,
   "metadata": {},
   "outputs": [],
   "source": [
    "# method 3: Newton's method\n",
    "# do not know how to express differential, improve later\n",
    "def NewtonMethod():\n",
    "    pass"
   ]
  },
  {
   "cell_type": "markdown",
   "metadata": {},
   "source": [
    "## Data Visualization"
   ]
  },
  {
   "cell_type": "code",
   "execution_count": 266,
   "metadata": {},
   "outputs": [
    {
     "data": {
      "image/png": "[encoded data removed]",
      "text/plain": [
       "<Figure size 432x288 with 1 Axes>"
      ]
     },
     "metadata": {
      "needs_background": "light"
     },
     "output_type": "display_data"
    }
   ],
   "source": [
    "x = ReadFileAndFindXY(path)[0]\n",
    "y = ReadFileAndFindXY(path)[1]\n",
    "# OLS (according to formula)\n",
    "xaxis1 = np.array(x.T[1].T)\n",
    "yaxis1 = np.array(x * CalculateParamaters(x,y))\n",
    "# GD with 0.5 alpha\n",
    "beta_initial = np.matrix([0,0])\n",
    "xaxis2 = np.array(x.T[1].T)\n",
    "yaxis2 = np.array(x * GradientDescent(beta_initial,0.5)[0])\n",
    "\n",
    "plt.plot(xaxis1,yaxis1)\n",
    "plt.plot(xaxis2,yaxis2)\n",
    "plt.legend(['OLS','GD'])\n",
    "plt.show()"
   ]
  },
  {
   "cell_type": "code",
   "execution_count": null,
   "metadata": {},
   "outputs": [],
   "source": []
  },
  {
   "cell_type": "code",
   "execution_count": null,
   "metadata": {},
   "outputs": [],
   "source": []
  },
  {
   "cell_type": "code",
   "execution_count": null,
   "metadata": {},
   "outputs": [],
   "source": []
  },
  {
   "cell_type": "code",
   "execution_count": null,
   "metadata": {},
   "outputs": [],
   "source": []
  },
  {
   "cell_type": "code",
   "execution_count": null,
   "metadata": {},
   "outputs": [],
   "source": []
  },
  {
   "cell_type": "code",
   "execution_count": null,
   "metadata": {},
   "outputs": [],
   "source": []
  },
  {
   "cell_type": "code",
   "execution_count": null,
   "metadata": {},
   "outputs": [],
   "source": []
  },
  {
   "cell_type": "code",
   "execution_count": null,
   "metadata": {},
   "outputs": [],
   "source": []
  },
  {
   "cell_type": "code",
   "execution_count": null,
   "metadata": {},
   "outputs": [],
   "source": []
  },
  {
   "cell_type": "code",
   "execution_count": null,
   "metadata": {},
   "outputs": [],
   "source": []
  },
  {
   "cell_type": "code",
   "execution_count": null,
   "metadata": {},
   "outputs": [],
   "source": []
  },
  {
   "cell_type": "code",
   "execution_count": null,
   "metadata": {},
   "outputs": [],
   "source": []
  }
 ],
 "metadata": {
  "kernelspec": {
   "display_name": "Python 3",
   "language": "python",
   "name": "python3"
  },
  "language_info": {
   "codemirror_mode": {
    "name": "ipython",
    "version": 3
   },
   "file_extension": ".py",
   "mimetype": "text/x-python",
   "name": "python",
   "nbconvert_exporter": "python",
   "pygments_lexer": "ipython3",
   "version": "3.7.3"
  }
 },
 "nbformat": 4,
 "nbformat_minor": 2
}
